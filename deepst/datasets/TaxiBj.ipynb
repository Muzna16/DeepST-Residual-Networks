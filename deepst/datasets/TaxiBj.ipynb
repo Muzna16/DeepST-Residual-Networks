{
 "cells": [
  {
   "cell_type": "code",
   "execution_count": 1,
   "metadata": {},
   "outputs": [],
   "source": [
    "from __future__ import print_function\n",
    "import os\n",
    "#import cPickle as pickle\n",
    "import pickle\n",
    "from copy import copy\n",
    "import numpy as np\n",
    "import h5py\n",
    "import importlib\n",
    "\n",
    "#importing modules from other files\n",
    "module_name = 'load_data'\n",
    "module = importlib.import_module(module_name)\n",
    "load_stdata = getattr(module, 'load_stdata')\n",
    "stat = getattr(module, 'stat')\n",
    "\n",
    "\n",
    "module_name = 'STMatrix'\n",
    "module = importlib.import_module(module_name)\n",
    "STMatrix = getattr(module, 'STMatrix')\n",
    "\n",
    "\n",
    "module_name = 'minmax_normalization'\n",
    "module = importlib.import_module(module_name)\n",
    "MinMaxNormalization = getattr(module, 'MinMaxNormalization')\n",
    "\n",
    "module_name = \"test\"\n",
    "module = importlib.import_module(module_name)\n",
    "remove_incomplete_days = getattr(module, 'remove_incomplete_days')\n",
    "timestamp2vec = getattr(module, 'timestamp2vec')\n",
    "\n",
    "module_name = 'config'\n",
    "module = importlib.import_module(module_name)\n",
    "config = getattr(module, 'Config')\n",
    "DATAPATH = config().DATAPATH\n"
   ]
  },
  {
   "cell_type": "code",
   "execution_count": 2,
   "metadata": {},
   "outputs": [],
   "source": [
    "DATAPATH = '../../data/TaxiBJ/'"
   ]
  },
  {
   "cell_type": "markdown",
   "metadata": {},
   "source": [
    "### Function 1"
   ]
  },
  {
   "cell_type": "markdown",
   "metadata": {},
   "source": [
    "The load_holiday function reads a list of holiday dates from a text file and compares them to a given array of timeslots. It returns a binary array where each element corresponds to a timeslot, with a value of 1 if the timeslot corresponds to a holiday date and 0 otherwise. The function also prints the total number of holiday timeslots found."
   ]
  },
  {
   "cell_type": "code",
   "execution_count": 3,
   "metadata": {},
   "outputs": [
    {
     "name": "stdout",
     "output_type": "stream",
     "text": [
      "['20130101', '20130102', '20130103', '20130209', '20130210', '20130211', '20130212', '20130213', '20130214', '20130215', '20130404', '20130405', '20130406', '20130429', '20130430', '20130501', '20130610', '20130611', '20130612', '20130919', '20130920', '20130921', '20131001', '20131002', '20131003', '20131004', '20131005', '20131006', '20131007', '20140101', '20140131', '20140201', '20140202', '20140203', '20140204', '20140205', '20140206', '20140405', '20140406', '20140407', '20140501', '20140502', '20140503', '20140531', '20140601', '20140602', '20140906', '20140907', '20140908', '20141001', '20141002', '20141003', '20141004', '20141005', '20141006', '20141007', '20150101', '20150102', '20150103', '20150218', '20150219', '20150220', '20150221', '20150222', '20150223', '20150224', '20150404', '20150405', '20150406', '20150501', '20150502', '20150503', '20150620', '20150621', '20150622', '20150903', '20150904', '20150905', '20150926', '20150927', '20151001', '20151002', '20151003', '20151004', '20151005', '20151006', '20151007', '20160101', '20160102', '20160103', '20160207', '20160208', '20160209', '20160210', '20160211', '20160212', '20160213', '20160402', '20160403', '20160404', '20160430', '20160501', '20160502', '20160609', '20160610', '20160611']\n"
     ]
    }
   ],
   "source": [
    "filename = \"../../data/TaxiBJ/BJ_Holiday.txt\"\n",
    "values = [] \n",
    "with open(filename, \"r\") as f:\n",
    "  lines = f.readlines()\n",
    "\n",
    "timeslots = []\n",
    "for line in lines:\n",
    "  values.append(line.strip())\n",
    "print(values)"
   ]
  },
  {
   "cell_type": "code",
   "execution_count": 4,
   "metadata": {},
   "outputs": [
    {
     "name": "stdout",
     "output_type": "stream",
     "text": [
      "0.0\n"
     ]
    },
    {
     "data": {
      "text/plain": [
       "array([], shape=(0, 1), dtype=float64)"
      ]
     },
     "execution_count": 4,
     "metadata": {},
     "output_type": "execute_result"
    }
   ],
   "source": [
    "def load_holiday(timeslots, fname=None):\n",
    "    if fname is None:\n",
    "        fname = os.path.join(DATAPATH, 'BJ_Holiday.txt')\n",
    "    # print(fname)\n",
    "    holidays = []\n",
    "    with open(fname, 'r') as f:\n",
    "        for line in f:\n",
    "            holidays.append(line.strip())\n",
    "    \n",
    "    H = np.zeros(len(timeslots))\n",
    "    for i, slot in enumerate(timeslots):\n",
    "        if slot[:8] in holidays:\n",
    "            H[i] = 1\n",
    "    \n",
    "    print(H.sum())\n",
    "    return H[:, None]\n",
    "\n",
    "# Define your 'timeslots' array here with the appropriate values\n",
    "\n",
    "timeslots = np.array(timeslots)\n",
    "load_holiday(timeslots)\n"
   ]
  },
  {
   "cell_type": "code",
   "execution_count": 5,
   "metadata": {},
   "outputs": [
    {
     "name": "stdout",
     "output_type": "stream",
     "text": [
      "20130101: Tuesday\n",
      "20130102: Wednesday\n",
      "20130103: Thursday\n",
      "20130209: Saturday\n",
      "20130210: Sunday\n",
      "20130211: Monday\n",
      "20130212: Tuesday\n",
      "20130213: Wednesday\n",
      "20130214: Thursday\n",
      "20130215: Friday\n",
      "20130404: Thursday\n",
      "20130405: Friday\n",
      "20130406: Saturday\n",
      "20130429: Monday\n",
      "20130430: Tuesday\n",
      "20130501: Wednesday\n",
      "20130610: Monday\n"
     ]
    }
   ],
   "source": [
    "from datetime import datetime\n",
    "\n",
    "date_strings = [\n",
    "    \"20130101\", \"20130102\", \"20130103\", \"20130209\", \"20130210\",\n",
    "    \"20130211\", \"20130212\", \"20130213\", \"20130214\", \"20130215\",\n",
    "    \"20130404\", \"20130405\", \"20130406\", \"20130429\", \"20130430\",\n",
    "    \"20130501\", \"20130610\"\n",
    "]\n",
    "\n",
    "for date_string in date_strings:\n",
    "    date = datetime.strptime(date_string, \"%Y%m%d\")\n",
    "    day_of_week = date.strftime(\"%A\")\n",
    "    print(f\"{date_string}: {day_of_week}\")"
   ]
  },
  {
   "cell_type": "markdown",
   "metadata": {},
   "source": [
    "### Function 2"
   ]
  },
  {
   "cell_type": "markdown",
   "metadata": {},
   "source": [
    "This Python function, load_meteorol, is designed to load meteorological data for a given set of timeslots. It takes two arguments: timeslots, which represents the predicted timeslots for which you want to load meteorological data, and fname (defaulting to a specific file path), which is the location of the HDF5 file containing the meteorological data.\n",
    "\n",
    "Inside the function, it opens the HDF5 file, extracts datasets for timeslots, wind speed, weather conditions, and temperature. It then maps the timeslots to their corresponding indices, retrieves the meteorological data for the previous timeslot of each predicted timeslot, scales the data to a 0-1 range, and finally concatenates these attributes into a single array named merge_data.\n",
    "\n",
    "This function essentially prepares and preprocesses meteorological data for use in some downstream analysis or modeling."
   ]
  },
  {
   "cell_type": "code",
   "execution_count": 6,
   "metadata": {},
   "outputs": [
    {
     "data": {
      "text/plain": [
       "<KeysViewHDF5 ['Temperature', 'Weather', 'WindSpeed', 'date']>"
      ]
     },
     "execution_count": 6,
     "metadata": {},
     "output_type": "execute_result"
    }
   ],
   "source": [
    "f = h5py.File('../../data/TaxiBJ/BJ_Meteorology.h5', 'r')\n",
    "keys = f.keys()\n",
    "keys"
   ]
  },
  {
   "cell_type": "markdown",
   "metadata": {},
   "source": [
    "⛈️ `Weather:` a 2D matrix, each of which is a one-hot vector (dim=17)."
   ]
  },
  {
   "cell_type": "code",
   "execution_count": 7,
   "metadata": {},
   "outputs": [
    {
     "name": "stdout",
     "output_type": "stream",
     "text": [
      "[0. 1.]\n",
      "(59006, 17)\n",
      "[[1. 0. 0. ... 0. 0. 0.]\n",
      " [1. 0. 0. ... 0. 0. 0.]\n",
      " [1. 0. 0. ... 0. 0. 0.]\n",
      " ...\n",
      " [0. 0. 0. ... 0. 0. 0.]\n",
      " [0. 0. 0. ... 0. 0. 0.]\n",
      " [0. 0. 0. ... 0. 0. 0.]]\n"
     ]
    }
   ],
   "source": [
    "import h5py\n",
    "\n",
    "# Open the HDF5 file\n",
    "with h5py.File('../../data/TaxiBJ/BJ_Meteorology.h5', 'r') as file:\n",
    "    # Assuming 'Weather' is a group or dataset inside the HDF5 file\n",
    "    if 'Weather' in file:\n",
    "        # Access the data inside the 'Weather' dataset\n",
    "        weather_data = file['Weather'][:]\n",
    "\n",
    "        # show unique values\n",
    "        print(np.unique(weather_data))\n",
    "        print(weather_data.shape)\n",
    "        \n",
    "        # Now, 'weather_data' contains the data from the 'Weather' dataset\n",
    "        print(weather_data)"
   ]
  },
  {
   "cell_type": "code",
   "execution_count": 8,
   "metadata": {},
   "outputs": [
    {
     "name": "stdout",
     "output_type": "stream",
     "text": [
      "[32031  8290  3382   721  1831   384    52    64  2325    98   140   190\n",
      "     0   120  9332     4    42]\n"
     ]
    }
   ],
   "source": [
    "# count the number of occurrences of 1 in each dimension\n",
    "print(np.count_nonzero(weather_data == 1, axis=0))"
   ]
  },
  {
   "cell_type": "code",
   "execution_count": 9,
   "metadata": {},
   "outputs": [
    {
     "data": {
      "image/png": "[encoded data removed]",
      "text/plain": [
       "<Figure size 720x432 with 1 Axes>"
      ]
     },
     "metadata": {
      "needs_background": "light"
     },
     "output_type": "display_data"
    }
   ],
   "source": [
    "import matplotlib.pyplot as plt\n",
    "\n",
    "# Open the HDF5 file\n",
    "with h5py.File('../../data/TaxiBJ/BJ_Meteorology.h5', 'r') as file:\n",
    "    # Assuming 'Weather' is a group or dataset inside the HDF5 file\n",
    "    if 'Weather' in file:\n",
    "        # Access the data inside the 'Weather' dataset\n",
    "        weather_data = file['Weather'][:]\n",
    "\n",
    "        # Calculate the count of each category (weather feature) over time\n",
    "        category_counts = np.sum(weather_data, axis=0)\n",
    "\n",
    "        # Create a bar plot\n",
    "        plt.figure(figsize=(10, 6))\n",
    "        categories = [f'Feature {i+1}' for i in range(category_counts.shape[0])]\n",
    "        plt.bar(categories, category_counts)\n",
    "        plt.xlabel('Weather Features')\n",
    "        plt.ylabel('Count')\n",
    "        plt.title('Count of Weather Features')\n",
    "        plt.xticks(rotation=45)\n",
    "        plt.tight_layout()\n",
    "        plt.show()\n"
   ]
  },
  {
   "cell_type": "markdown",
   "metadata": {},
   "source": [
    "🌡️ `Temperature:` a list of continuous value, of which the i^{th} value is temperature at the timeslot date[i]."
   ]
  },
  {
   "cell_type": "code",
   "execution_count": 10,
   "metadata": {},
   "outputs": [
    {
     "name": "stdout",
     "output_type": "stream",
     "text": [
      "[-15.1 -15.  -14.9 -14.8 -14.7 -14.6 -14.5 -14.4 -14.3 -14.1 -14.  -13.9\n",
      " -13.8 -13.7 -13.6 -13.5 -13.4 -13.3 -13.2 -13.  -12.6 -11.9 -11.5 -11.4\n",
      " -11.3 -11.2 -11.1 -11.  -10.9 -10.8 -10.7 -10.6 -10.5 -10.3 -10.2 -10.1\n",
      " -10.   -9.9  -9.8  -9.6  -9.5  -9.4  -9.3  -9.2  -9.1  -9.   -8.9  -8.8\n",
      "  -8.7  -8.6  -8.5  -8.4  -8.3  -8.2  -8.1  -8.   -7.9  -7.8  -7.7  -7.6\n",
      "  -7.5  -7.4  -7.3  -7.2  -7.1  -7.   -6.9  -6.8  -6.7  -6.6  -6.5  -6.4\n",
      "  -6.3  -6.2  -6.1  -6.   -5.9  -5.8  -5.7  -5.6  -5.5  -5.4  -5.3  -5.2\n",
      "  -5.1  -5.   -4.9  -4.8  -4.7  -4.6  -4.5  -4.4  -4.3  -4.2  -4.1  -4.\n",
      "  -3.9  -3.8  -3.7  -3.6  -3.5  -3.4  -3.3  -3.2  -3.1  -3.   -2.9  -2.8\n",
      "  -2.7  -2.6  -2.5  -2.4  -2.3  -2.2  -2.1  -2.   -1.9  -1.8  -1.7  -1.6\n",
      "  -1.5  -1.4  -1.3  -1.2  -1.1  -1.   -0.9  -0.8  -0.7  -0.6  -0.5  -0.4\n",
      "  -0.3  -0.2  -0.1   0.    0.1   0.2   0.3   0.4   0.5   0.6   0.7   0.8\n",
      "   0.9   1.    1.1   1.2   1.3   1.4   1.5   1.6   1.7   1.8   1.9   2.\n",
      "   2.1   2.2   2.3   2.4   2.5   2.6   2.7   2.8   2.9   3.    3.1   3.2\n",
      "   3.3   3.4   3.5   3.6   3.7   3.8   3.9   4.    4.1   4.2   4.3   4.4\n",
      "   4.5   4.6   4.7   4.8   4.9   5.    5.1   5.2   5.3   5.4   5.5   5.6\n",
      "   5.7   5.8   5.9   6.    6.1   6.2   6.3   6.4   6.5   6.6   6.7   6.8\n",
      "   6.9   7.    7.1   7.2   7.3   7.4   7.5   7.6   7.7   7.8   7.9   8.\n",
      "   8.1   8.2   8.3   8.4   8.5   8.6   8.7   8.8   8.9   9.    9.1   9.2\n",
      "   9.3   9.4   9.5   9.6   9.7   9.8   9.9  10.   10.1  10.2  10.3  10.4\n",
      "  10.5  10.6  10.7  10.8  10.9  11.   11.1  11.2  11.3  11.4  11.5  11.6\n",
      "  11.7  11.8  11.9  12.   12.1  12.2  12.3  12.4  12.5  12.6  12.7  12.8\n",
      "  12.9  13.   13.1  13.2  13.3  13.4  13.5  13.6  13.7  13.8  13.9  14.\n",
      "  14.1  14.2  14.3  14.4  14.5  14.6  14.7  14.8  14.9  15.   15.1  15.2\n",
      "  15.3  15.4  15.5  15.6  15.7  15.8  15.9  16.   16.1  16.2  16.3  16.4\n",
      "  16.5  16.6  16.7  16.8  16.9  17.   17.1  17.2  17.3  17.4  17.5  17.6\n",
      "  17.7  17.8  17.9  18.   18.1  18.2  18.3  18.4  18.5  18.6  18.7  18.8\n",
      "  18.9  19.   19.1  19.2  19.3  19.4  19.5  19.6  19.7  19.8  19.9  20.\n",
      "  20.1  20.2  20.3  20.4  20.5  20.6  20.7  20.8  20.9  21.   21.1  21.2\n",
      "  21.3  21.4  21.5  21.6  21.7  21.8  21.9  22.   22.1  22.2  22.3  22.4\n",
      "  22.5  22.6  22.7  22.8  22.9  23.   23.1  23.2  23.3  23.4  23.5  23.6\n",
      "  23.7  23.8  23.9  24.   24.1  24.2  24.3  24.4  24.5  24.6  24.7  24.8\n",
      "  24.9  25.   25.1  25.2  25.3  25.4  25.5  25.6  25.7  25.8  25.9  26.\n",
      "  26.1  26.2  26.3  26.4  26.5  26.6  26.7  26.8  26.9  27.   27.1  27.2\n",
      "  27.3  27.4  27.5  27.6  27.7  27.8  27.9  28.   28.1  28.2  28.3  28.4\n",
      "  28.5  28.6  28.7  28.8  28.9  29.   29.1  29.2  29.3  29.4  29.5  29.6\n",
      "  29.7  29.8  29.9  30.   30.1  30.2  30.3  30.4  30.5  30.6  30.7  30.8\n",
      "  30.9  31.   31.1  31.2  31.3  31.4  31.5  31.6  31.7  31.8  31.9  32.\n",
      "  32.1  32.2  32.3  32.4  32.5  32.6  32.7  32.8  32.9  33.   33.1  33.2\n",
      "  33.3  33.4  33.5  33.6  33.7  33.8  33.9  34.   34.1  34.2  34.3  34.4\n",
      "  34.5  34.6  34.7  34.8  34.9  35.   35.1  35.2  35.3  35.4  35.5  35.6\n",
      "  35.7  35.8  36.   36.1  36.2  36.3  36.4  36.5  37.2  37.3  37.5  37.6\n",
      "  37.7  38.   38.1  38.4  38.7  38.8  39.   40.2]\n",
      "(59006,)\n",
      "[-2.6 -2.6 -2.6 ... 19.7 20.4 20.5]\n"
     ]
    }
   ],
   "source": [
    "# Open the HDF5 file\n",
    "with h5py.File('../../data/TaxiBJ/BJ_Meteorology.h5', 'r') as file:\n",
    "    # Assuming 'Weather' is a group or dataset inside the HDF5 file\n",
    "    if 'Weather' in file:\n",
    "        # Access the data inside the 'Weather' dataset\n",
    "        weather_data = file['Temperature'][:]\n",
    "\n",
    "        # show unique values\n",
    "        print(np.unique(weather_data))\n",
    "        print(weather_data.shape)\n",
    "        \n",
    "        # Now, 'weather_data' contains the data from the 'Weather' dataset\n",
    "        print(weather_data)"
   ]
  },
  {
   "cell_type": "code",
   "execution_count": 11,
   "metadata": {},
   "outputs": [
    {
     "data": {
      "image/png": "[encoded data removed]",
      "text/plain": [
       "<Figure size 720x432 with 1 Axes>"
      ]
     },
     "metadata": {
      "needs_background": "light"
     },
     "output_type": "display_data"
    }
   ],
   "source": [
    "import matplotlib.pyplot as plt\n",
    "\n",
    "# Open the HDF5 file\n",
    "with h5py.File('../../data/TaxiBJ/BJ_Meteorology.h5', 'r') as file:\n",
    "    # Assuming 'Temperature' is a dataset inside the HDF5 file\n",
    "    if 'Temperature' in file:\n",
    "        # Access the temperature data\n",
    "        temperature_data = file['Temperature'][:]\n",
    "\n",
    "        # Create a histogram plot\n",
    "        plt.figure(figsize=(10, 6))\n",
    "        plt.hist(temperature_data, bins=50, color='blue', alpha=0.7)\n",
    "        plt.xlabel('Temperature (°C)')\n",
    "        plt.ylabel('Frequency')\n",
    "        plt.title('Temperature Distribution')\n",
    "        plt.grid(axis='y', linestyle='--', alpha=0.7)\n",
    "        plt.tight_layout()\n",
    "        plt.show()\n"
   ]
  },
  {
   "cell_type": "code",
   "execution_count": 12,
   "metadata": {},
   "outputs": [
    {
     "name": "stdout",
     "output_type": "stream",
     "text": [
      "['20130101', '20130102', '20130103', '20130209', '20130210', '20130211', '20130212', '20130213', '20130214', '20130215', '20130404', '20130405', '20130406', '20130429', '20130430', '20130501', '20130610', '20130611', '20130612', '20130919', '20130920', '20130921', '20131001', '20131002', '20131003', '20131004', '20131005', '20131006', '20131007', '20140101', '20140131', '20140201', '20140202', '20140203', '20140204', '20140205', '20140206', '20140405', '20140406', '20140407', '20140501', '20140502', '20140503', '20140531', '20140601', '20140602', '20140906', '20140907', '20140908', '20141001', '20141002', '20141003', '20141004', '20141005', '20141006', '20141007', '20150101', '20150102', '20150103', '20150218', '20150219', '20150220', '20150221', '20150222', '20150223', '20150224', '20150404', '20150405', '20150406', '20150501', '20150502', '20150503', '20150620', '20150621', '20150622', '20150903', '20150904', '20150905', '20150926', '20150927', '20151001', '20151002', '20151003', '20151004', '20151005', '20151006', '20151007', '20160101', '20160102', '20160103', '20160207', '20160208', '20160209', '20160210', '20160211', '20160212', '20160213', '20160402', '20160403', '20160404', '20160430', '20160501', '20160502', '20160609', '20160610', '20160611']\n"
     ]
    }
   ],
   "source": [
    "filename = \"../../data/TaxiBJ/BJ_Holiday.txt\"\n",
    "values = [] \n",
    "with open(filename, \"r\") as f:\n",
    "  lines = f.readlines()\n",
    "\n",
    "timeslots = []\n",
    "for line in lines:\n",
    "  values.append(line.strip())\n",
    "print(values)"
   ]
  },
  {
   "cell_type": "code",
   "execution_count": 13,
   "metadata": {},
   "outputs": [
    {
     "name": "stdout",
     "output_type": "stream",
     "text": [
      "Timeslot: [b'2013020105' b'2013020106' b'2013020107' ... b'2016061335' b'2016061336'\n",
      " b'2016061337']\n",
      "shape:  (59006,) (59006, 17) (59006,)\n"
     ]
    }
   ],
   "source": [
    "# def load_meteorol(timeslots, fname=os.path.join(DATAPATH, 'TaxiBJ', 'BJ_Meteorology.h5')):\n",
    "'''\n",
    "timeslots: the predicted timeslots\n",
    "In real-world, we dont have the meteorol data in the predicted timeslot, instead, we use the meteoral at previous timeslots, i.e., slot = predicted_slot - timeslot (you can use predicted meteorol data as well)\n",
    "'''\n",
    "# read timeslots \n",
    "\n",
    "# Open the HDF5 file\n",
    "f = h5py.File('../../data/TaxiBJ/BJ_Meteorology.h5', 'r')\n",
    "\n",
    "# Access the datasets directly using indexing\n",
    "Timeslot = f['date'][:]\n",
    "WindSpeed = f['WindSpeed'][:]\n",
    "Weather = f['Weather'][:]\n",
    "Temperature = f['Temperature'][:]\n",
    "\n",
    "# Debugging\n",
    "print(\"Timeslot:\", Timeslot)\n",
    "\n",
    "# Close the file\n",
    "# f.close()\n",
    "\n",
    "# Rest of your code\n",
    "M = dict()  # map timeslot to index\n",
    "for i, slot in enumerate(Timeslot):\n",
    "    M[slot] = i\n",
    "\n",
    "WS = []  # WindSpeed\n",
    "WR = []  # Weather\n",
    "TE = []  # Temperature\n",
    "for slot in Timeslot:\n",
    "    predicted_id = M[slot]\n",
    "    cur_id = predicted_id - 1\n",
    "    WS.append(WindSpeed[cur_id])\n",
    "    WR.append(Weather[cur_id])\n",
    "    TE.append(Temperature[cur_id])\n",
    "\n",
    "WS = np.asarray(WS)\n",
    "WR = np.asarray(WR)\n",
    "TE = np.asarray(TE)\n",
    "\n",
    "# 0-1 scale\n",
    "WS = 1. * (WS - WS.min()) / (WS.max() - WS.min())\n",
    "TE = 1. * (TE - TE.min()) / (TE.max() - TE.min())\n",
    "\n",
    "print(\"shape: \", WS.shape, WR.shape, TE.shape)\n",
    "\n",
    "# concatenate all these attributes\n",
    "merge_data = np.hstack([WR, WS[:, None], TE[:, None]])\n"
   ]
  },
  {
   "cell_type": "markdown",
   "metadata": {},
   "source": [
    "### Function 3"
   ]
  },
  {
   "cell_type": "code",
   "execution_count": 14,
   "metadata": {},
   "outputs": [],
   "source": [
    "def load_data(T=48, nb_flow=2, len_closeness=None, len_period=None, len_trend=None,\n",
    "              len_test=None, preprocess_name='preprocessing.pkl',\n",
    "              meta_data=True, meteorol_data=True, holiday_data=True):\n",
    "    \"\"\"\n",
    "    \"\"\"\n",
    "    assert(len_closeness + len_period + len_trend > 0)\n",
    "    # load data\n",
    "    # 13 - 16\n",
    "    data_all = []\n",
    "    timestamps_all = list()\n",
    "    for year in range(13, 17):\n",
    "        fname = os.path.join(\n",
    "            DATAPATH, 'TaxiBJ', 'BJ{}_M32x32_T30_InOut.h5'.format(year))\n",
    "        print(\"file name: \", fname)\n",
    "        stat(fname)\n",
    "        data, timestamps = load_stdata(fname)\n",
    "        # print(timestamps)\n",
    "        # remove a certain day which does not have 48 timestamps\n",
    "        data, timestamps = remove_incomplete_days(data, timestamps, T)\n",
    "        data = data[:, :nb_flow]\n",
    "        data[data < 0] = 0.\n",
    "        data_all.append(data)\n",
    "        timestamps_all.append(timestamps)\n",
    "        print(\"\\n\")\n",
    "\n",
    "    # minmax_scale\n",
    "    data_train = np.vstack(copy(data_all))[:-len_test]\n",
    "    print('train_data shape: ', data_train.shape)\n",
    "    mmn = MinMaxNormalization()\n",
    "    mmn.fit(data_train)\n",
    "    data_all_mmn = [mmn.transform(d) for d in data_all]\n",
    "\n",
    "    fpkl = open(preprocess_name, 'wb')\n",
    "    for obj in [mmn]:\n",
    "        pickle.dump(obj, fpkl)\n",
    "    fpkl.close()\n",
    "\n",
    "    XC, XP, XT = [], [], []\n",
    "    Y = []\n",
    "    timestamps_Y = []\n",
    "    for data, timestamps in zip(data_all_mmn, timestamps_all):\n",
    "        # instance-based dataset --> sequences with format as (X, Y) where X is\n",
    "        # a sequence of images and Y is an image.\n",
    "        st = STMatrix(data, timestamps, T, CheckComplete=False)\n",
    "        _XC, _XP, _XT, _Y, _timestamps_Y = st.create_dataset(\n",
    "            len_closeness=len_closeness, len_period=len_period, len_trend=len_trend)\n",
    "        XC.append(_XC)\n",
    "        XP.append(_XP)\n",
    "        XT.append(_XT)\n",
    "        Y.append(_Y)\n",
    "        timestamps_Y += _timestamps_Y\n",
    "\n",
    "    meta_feature = []\n",
    "    if meta_data:\n",
    "        # load time feature\n",
    "        time_feature = timestamp2vec(timestamps_Y)\n",
    "        meta_feature.append(time_feature)\n",
    "    if holiday_data:\n",
    "        # load holiday\n",
    "        holiday_feature = load_holiday(timestamps_Y)\n",
    "        meta_feature.append(holiday_feature)\n",
    "    if meteorol_data:\n",
    "        # load meteorol data\n",
    "        meteorol_feature = load_meteorol(timestamps_Y)\n",
    "        meta_feature.append(meteorol_feature)\n",
    "\n",
    "    meta_feature = np.hstack(meta_feature) if len(\n",
    "        meta_feature) > 0 else np.asarray(meta_feature)\n",
    "    metadata_dim = meta_feature.shape[1] if len(\n",
    "        meta_feature.shape) > 1 else None\n",
    "    if metadata_dim < 1:\n",
    "        metadata_dim = None\n",
    "    if meta_data and holiday_data and meteorol_data:\n",
    "        print('time feature:', time_feature.shape, 'holiday feature:', holiday_feature.shape,\n",
    "              'meteorol feature: ', meteorol_feature.shape, 'mete feature: ', meta_feature.shape)\n",
    "\n",
    "    XC = np.vstack(XC)\n",
    "    XP = np.vstack(XP)\n",
    "    XT = np.vstack(XT)\n",
    "    Y = np.vstack(Y)\n",
    "    print(\"XC shape: \", XC.shape, \"XP shape: \", XP.shape,\n",
    "          \"XT shape: \", XT.shape, \"Y shape:\", Y.shape)\n",
    "\n",
    "    XC_train, XP_train, XT_train, Y_train = XC[\n",
    "        :-len_test], XP[:-len_test], XT[:-len_test], Y[:-len_test]\n",
    "    XC_test, XP_test, XT_test, Y_test = XC[\n",
    "        -len_test:], XP[-len_test:], XT[-len_test:], Y[-len_test:]\n",
    "    timestamp_train, timestamp_test = timestamps_Y[\n",
    "        :-len_test], timestamps_Y[-len_test:]\n",
    "\n",
    "    X_train = []\n",
    "    X_test = []\n",
    "    for l, X_ in zip([len_closeness, len_period, len_trend], [XC_train, XP_train, XT_train]):\n",
    "        if l > 0:\n",
    "            X_train.append(X_)\n",
    "    for l, X_ in zip([len_closeness, len_period, len_trend], [XC_test, XP_test, XT_test]):\n",
    "        if l > 0:\n",
    "            X_test.append(X_)\n",
    "    print('train shape:', XC_train.shape, Y_train.shape,\n",
    "          'test shape: ', XC_test.shape, Y_test.shape)\n",
    "\n",
    "    if metadata_dim is not None:\n",
    "        meta_feature_train, meta_feature_test = meta_feature[\n",
    "            :-len_test], meta_feature[-len_test:]\n",
    "        X_train.append(meta_feature_train)\n",
    "        X_test.append(meta_feature_test)\n",
    "    for _X in X_train:\n",
    "        print(_X.shape, )\n",
    "    print()\n",
    "    for _X in X_test:\n",
    "        print(_X.shape, )\n",
    "    print()\n",
    "    return X_train, Y_train, X_test, Y_test, mmn, metadata_dim, timestamp_train, timestamp_test\n"
   ]
  },
  {
   "cell_type": "code",
   "execution_count": 15,
   "metadata": {},
   "outputs": [
    {
     "name": "stdout",
     "output_type": "stream",
     "text": [
      "file name:  ../../data/TaxiBJ/BJ13_M32x32_T30_InOut.h5\n",
      "data (4888, 2, 32, 32)\n"
     ]
    },
    {
     "name": "stdout",
     "output_type": "stream",
     "text": [
      "date (4888,)\n",
      "This is load data from load_data.py\n",
      "incomplete days:  [b'20130926']\n",
      "\n",
      "\n",
      "file name:  ../../data/TaxiBJ/BJ14_M32x32_T30_InOut.h5\n",
      "data (4780, 2, 32, 32)\n",
      "date (4780,)\n",
      "This is load data from load_data.py\n",
      "incomplete days:  [b'20140304', b'20140313', b'20140323', b'20140326', b'20140401', b'20140402', b'20140409', b'20140410', b'20140412', b'20140422', b'20140501', b'20140526', b'20140618', b'20140627']\n",
      "\n",
      "\n",
      "file name:  ../../data/TaxiBJ/BJ15_M32x32_T30_InOut.h5\n"
     ]
    },
    {
     "ename": "FileNotFoundError",
     "evalue": "[Errno 2] Unable to open file (unable to open file: name = '../../data/TaxiBJ/BJ15_M32x32_T30_InOut.h5', errno = 2, error message = 'No such file or directory', flags = 0, o_flags = 0)",
     "output_type": "error",
     "traceback": [
      "\u001b[0;31m---------------------------------------------------------------------------\u001b[0m",
      "\u001b[0;31mFileNotFoundError\u001b[0m                         Traceback (most recent call last)",
      "\u001b[0;32m/tmp/ipykernel_9328/4194314537.py\u001b[0m in \u001b[0;36m<module>\u001b[0;34m\u001b[0m\n\u001b[1;32m     24\u001b[0m     \u001b[0mfname\u001b[0m \u001b[0;34m=\u001b[0m \u001b[0mos\u001b[0m\u001b[0;34m.\u001b[0m\u001b[0mpath\u001b[0m\u001b[0;34m.\u001b[0m\u001b[0mjoin\u001b[0m\u001b[0;34m(\u001b[0m\u001b[0mDATAPATH\u001b[0m\u001b[0;34m,\u001b[0m \u001b[0;34m'BJ{}_M32x32_T30_InOut.h5'\u001b[0m\u001b[0;34m.\u001b[0m\u001b[0mformat\u001b[0m\u001b[0;34m(\u001b[0m\u001b[0myear\u001b[0m\u001b[0;34m)\u001b[0m\u001b[0;34m)\u001b[0m\u001b[0;34m\u001b[0m\u001b[0;34m\u001b[0m\u001b[0m\n\u001b[1;32m     25\u001b[0m     \u001b[0mprint\u001b[0m\u001b[0;34m(\u001b[0m\u001b[0;34m\"file name: \"\u001b[0m\u001b[0;34m,\u001b[0m \u001b[0mfname\u001b[0m\u001b[0;34m)\u001b[0m\u001b[0;34m\u001b[0m\u001b[0;34m\u001b[0m\u001b[0m\n\u001b[0;32m---> 26\u001b[0;31m     \u001b[0mdata\u001b[0m\u001b[0;34m,\u001b[0m \u001b[0mtimestamps\u001b[0m \u001b[0;34m=\u001b[0m \u001b[0mload_stdata\u001b[0m\u001b[0;34m(\u001b[0m\u001b[0mfname\u001b[0m\u001b[0;34m)\u001b[0m\u001b[0;34m\u001b[0m\u001b[0;34m\u001b[0m\u001b[0m\n\u001b[0m\u001b[1;32m     27\u001b[0m     \u001b[0mdata\u001b[0m\u001b[0;34m,\u001b[0m \u001b[0mtimestamps\u001b[0m \u001b[0;34m=\u001b[0m \u001b[0mremove_incomplete_days\u001b[0m\u001b[0;34m(\u001b[0m\u001b[0mdata\u001b[0m\u001b[0;34m,\u001b[0m \u001b[0mtimestamps\u001b[0m\u001b[0;34m,\u001b[0m \u001b[0mT\u001b[0m\u001b[0;34m)\u001b[0m\u001b[0;34m\u001b[0m\u001b[0;34m\u001b[0m\u001b[0m\n\u001b[1;32m     28\u001b[0m     \u001b[0mdata\u001b[0m \u001b[0;34m=\u001b[0m \u001b[0mdata\u001b[0m\u001b[0;34m[\u001b[0m\u001b[0;34m:\u001b[0m\u001b[0;34m,\u001b[0m \u001b[0;34m:\u001b[0m\u001b[0mnb_flow\u001b[0m\u001b[0;34m]\u001b[0m\u001b[0;34m\u001b[0m\u001b[0;34m\u001b[0m\u001b[0m\n",
      "\u001b[0;32m~/Desktop/DeepST/deepst/datasets/load_data.py\u001b[0m in \u001b[0;36mload_stdata\u001b[0;34m(fname)\u001b[0m\n\u001b[1;32m      6\u001b[0m \u001b[0;34m\u001b[0m\u001b[0m\n\u001b[1;32m      7\u001b[0m \u001b[0;32mdef\u001b[0m \u001b[0mload_stdata\u001b[0m\u001b[0;34m(\u001b[0m\u001b[0mfname\u001b[0m\u001b[0;34m)\u001b[0m\u001b[0;34m:\u001b[0m\u001b[0;34m\u001b[0m\u001b[0;34m\u001b[0m\u001b[0m\n\u001b[0;32m----> 8\u001b[0;31m         \u001b[0mf\u001b[0m \u001b[0;34m=\u001b[0m \u001b[0mh5py\u001b[0m\u001b[0;34m.\u001b[0m\u001b[0mFile\u001b[0m\u001b[0;34m(\u001b[0m\u001b[0mfname\u001b[0m\u001b[0;34m,\u001b[0m \u001b[0;34m'r'\u001b[0m\u001b[0;34m)\u001b[0m\u001b[0;34m\u001b[0m\u001b[0;34m\u001b[0m\u001b[0m\n\u001b[0m\u001b[1;32m      9\u001b[0m         \u001b[0;32mfor\u001b[0m \u001b[0mkey\u001b[0m \u001b[0;32min\u001b[0m \u001b[0mf\u001b[0m\u001b[0;34m.\u001b[0m\u001b[0mkeys\u001b[0m\u001b[0;34m(\u001b[0m\u001b[0;34m)\u001b[0m\u001b[0;34m:\u001b[0m\u001b[0;34m\u001b[0m\u001b[0;34m\u001b[0m\u001b[0m\n\u001b[1;32m     10\u001b[0m \u001b[0;34m\u001b[0m\u001b[0m\n",
      "\u001b[0;32m~/.local/lib/python3.10/site-packages/h5py/_hl/files.py\u001b[0m in \u001b[0;36m__init__\u001b[0;34m(self, name, mode, driver, libver, userblock_size, swmr, rdcc_nslots, rdcc_nbytes, rdcc_w0, track_order, fs_strategy, fs_persist, fs_threshold, fs_page_size, page_buf_size, min_meta_keep, min_raw_keep, locking, alignment_threshold, alignment_interval, meta_block_size, **kwds)\u001b[0m\n\u001b[1;32m    565\u001b[0m                                  \u001b[0mfs_persist\u001b[0m\u001b[0;34m=\u001b[0m\u001b[0mfs_persist\u001b[0m\u001b[0;34m,\u001b[0m \u001b[0mfs_threshold\u001b[0m\u001b[0;34m=\u001b[0m\u001b[0mfs_threshold\u001b[0m\u001b[0;34m,\u001b[0m\u001b[0;34m\u001b[0m\u001b[0;34m\u001b[0m\u001b[0m\n\u001b[1;32m    566\u001b[0m                                  fs_page_size=fs_page_size)\n\u001b[0;32m--> 567\u001b[0;31m                 \u001b[0mfid\u001b[0m \u001b[0;34m=\u001b[0m \u001b[0mmake_fid\u001b[0m\u001b[0;34m(\u001b[0m\u001b[0mname\u001b[0m\u001b[0;34m,\u001b[0m \u001b[0mmode\u001b[0m\u001b[0;34m,\u001b[0m \u001b[0muserblock_size\u001b[0m\u001b[0;34m,\u001b[0m \u001b[0mfapl\u001b[0m\u001b[0;34m,\u001b[0m \u001b[0mfcpl\u001b[0m\u001b[0;34m,\u001b[0m \u001b[0mswmr\u001b[0m\u001b[0;34m=\u001b[0m\u001b[0mswmr\u001b[0m\u001b[0;34m)\u001b[0m\u001b[0;34m\u001b[0m\u001b[0;34m\u001b[0m\u001b[0m\n\u001b[0m\u001b[1;32m    568\u001b[0m \u001b[0;34m\u001b[0m\u001b[0m\n\u001b[1;32m    569\u001b[0m             \u001b[0;32mif\u001b[0m \u001b[0misinstance\u001b[0m\u001b[0;34m(\u001b[0m\u001b[0mlibver\u001b[0m\u001b[0;34m,\u001b[0m \u001b[0mtuple\u001b[0m\u001b[0;34m)\u001b[0m\u001b[0;34m:\u001b[0m\u001b[0;34m\u001b[0m\u001b[0;34m\u001b[0m\u001b[0m\n",
      "\u001b[0;32m~/.local/lib/python3.10/site-packages/h5py/_hl/files.py\u001b[0m in \u001b[0;36mmake_fid\u001b[0;34m(name, mode, userblock_size, fapl, fcpl, swmr)\u001b[0m\n\u001b[1;32m    229\u001b[0m         \u001b[0;32mif\u001b[0m \u001b[0mswmr\u001b[0m \u001b[0;32mand\u001b[0m \u001b[0mswmr_support\u001b[0m\u001b[0;34m:\u001b[0m\u001b[0;34m\u001b[0m\u001b[0;34m\u001b[0m\u001b[0m\n\u001b[1;32m    230\u001b[0m             \u001b[0mflags\u001b[0m \u001b[0;34m|=\u001b[0m \u001b[0mh5f\u001b[0m\u001b[0;34m.\u001b[0m\u001b[0mACC_SWMR_READ\u001b[0m\u001b[0;34m\u001b[0m\u001b[0;34m\u001b[0m\u001b[0m\n\u001b[0;32m--> 231\u001b[0;31m         \u001b[0mfid\u001b[0m \u001b[0;34m=\u001b[0m \u001b[0mh5f\u001b[0m\u001b[0;34m.\u001b[0m\u001b[0mopen\u001b[0m\u001b[0;34m(\u001b[0m\u001b[0mname\u001b[0m\u001b[0;34m,\u001b[0m \u001b[0mflags\u001b[0m\u001b[0;34m,\u001b[0m \u001b[0mfapl\u001b[0m\u001b[0;34m=\u001b[0m\u001b[0mfapl\u001b[0m\u001b[0;34m)\u001b[0m\u001b[0;34m\u001b[0m\u001b[0;34m\u001b[0m\u001b[0m\n\u001b[0m\u001b[1;32m    232\u001b[0m     \u001b[0;32melif\u001b[0m \u001b[0mmode\u001b[0m \u001b[0;34m==\u001b[0m \u001b[0;34m'r+'\u001b[0m\u001b[0;34m:\u001b[0m\u001b[0;34m\u001b[0m\u001b[0;34m\u001b[0m\u001b[0m\n\u001b[1;32m    233\u001b[0m         \u001b[0mfid\u001b[0m \u001b[0;34m=\u001b[0m \u001b[0mh5f\u001b[0m\u001b[0;34m.\u001b[0m\u001b[0mopen\u001b[0m\u001b[0;34m(\u001b[0m\u001b[0mname\u001b[0m\u001b[0;34m,\u001b[0m \u001b[0mh5f\u001b[0m\u001b[0;34m.\u001b[0m\u001b[0mACC_RDWR\u001b[0m\u001b[0;34m,\u001b[0m \u001b[0mfapl\u001b[0m\u001b[0;34m=\u001b[0m\u001b[0mfapl\u001b[0m\u001b[0;34m)\u001b[0m\u001b[0;34m\u001b[0m\u001b[0;34m\u001b[0m\u001b[0m\n",
      "\u001b[0;32mh5py/_objects.pyx\u001b[0m in \u001b[0;36mh5py._objects.with_phil.wrapper\u001b[0;34m()\u001b[0m\n",
      "\u001b[0;32mh5py/_objects.pyx\u001b[0m in \u001b[0;36mh5py._objects.with_phil.wrapper\u001b[0;34m()\u001b[0m\n",
      "\u001b[0;32mh5py/h5f.pyx\u001b[0m in \u001b[0;36mh5py.h5f.open\u001b[0;34m()\u001b[0m\n",
      "\u001b[0;31mFileNotFoundError\u001b[0m: [Errno 2] Unable to open file (unable to open file: name = '../../data/TaxiBJ/BJ15_M32x32_T30_InOut.h5', errno = 2, error message = 'No such file or directory', flags = 0, o_flags = 0)"
     ]
    }
   ],
   "source": [
    "import os\n",
    "import pickle\n",
    "import numpy as np\n",
    "#from utils import STMatrix, timestamp2vec, load_holiday, load_meteorol, MinMaxNormalization, load_stdata, remove_incomplete_days\n",
    "\n",
    "DATAPATH = DATAPATH  # Replace with your actual data path\n",
    "T = 48\n",
    "nb_flow = 2\n",
    "len_closeness = None\n",
    "len_period = None\n",
    "len_trend = None\n",
    "len_test = None\n",
    "preprocess_name = 'preprocessing.pkl'\n",
    "meta_data = True\n",
    "meteorol_data = True\n",
    "holiday_data = True\n",
    "\n",
    "# assert (len_closeness + len_period + len_trend > 0)\n",
    "\n",
    "# Load data\n",
    "data_all = []\n",
    "timestamps_all = list()\n",
    "for year in range(13, 17):\n",
    "    fname = os.path.join(DATAPATH, 'BJ{}_M32x32_T30_InOut.h5'.format(year))\n",
    "    print(\"file name: \", fname)\n",
    "    data, timestamps = load_stdata(fname)\n",
    "    data, timestamps = remove_incomplete_days(data, timestamps, T)\n",
    "    data = data[:, :nb_flow]\n",
    "    data[data < 0] = 0.\n",
    "    data_all.append(data)\n",
    "    timestamps_all.append(timestamps)\n",
    "    print(\"\\n\")\n",
    "\n",
    "# Minmax_scale\n",
    "data_train = np.vstack(copy(data_all))[:-len_test]\n",
    "print('train_data shape: ', data_train.shape)\n",
    "mmn = MinMaxNormalization()\n",
    "mmn.fit(data_train)\n",
    "data_all_mmn = [mmn.transform(d) for d in data_all]\n",
    "\n",
    "fpkl = open(preprocess_name, 'wb')\n",
    "for obj in [mmn]:\n",
    "    pickle.dump(obj, fpkl)\n",
    "fpkl.close()\n",
    "\n",
    "XC, XP, XT = [], [], []\n",
    "Y = []\n",
    "timestamps_Y = []\n",
    "for data, timestamps in zip(data_all_mmn, timestamps_all):\n",
    "    st = STMatrix(data, timestamps, T, CheckComplete=False)\n",
    "    _XC, _XP, _XT, _Y, _timestamps_Y = st.create_dataset(\n",
    "        len_closeness=len_closeness, len_period=len_period, len_trend=len_trend)\n",
    "    XC.append(_XC)\n",
    "    XP.append(_XP)\n",
    "    XT.append(_XT)\n",
    "    Y.append(_Y)\n",
    "    timestamps_Y += _timestamps_Y\n",
    "\n",
    "meta_feature = []\n",
    "if meta_data:\n",
    "    time_feature = timestamp2vec(timestamps_Y)\n",
    "    meta_feature.append(time_feature)\n",
    "if holiday_data:\n",
    "    holiday_feature = load_holiday(timestamps_Y)\n",
    "    meta_feature.append(holiday_feature)\n",
    "if meteorol_data:\n",
    "    meteorol_feature = load_meteorol(timestamps_Y)\n",
    "    meta_feature.append(meteorol_feature)\n",
    "\n",
    "meta_feature = np.hstack(meta_feature) if len(\n",
    "    meta_feature) > 0 else np.asarray(meta_feature)\n",
    "metadata_dim = meta_feature.shape[1] if len(\n",
    "    meta_feature.shape) > 1 else None\n",
    "if metadata_dim < 1:\n",
    "    metadata_dim = None\n",
    "if meta_data and holiday_data and meteorol_data:\n",
    "    print('time feature:', time_feature.shape, 'holiday feature:', holiday_feature.shape,\n",
    "          'meteorol feature: ', meteorol_feature.shape, 'mete feature: ', meta_feature.shape)\n",
    "\n",
    "XC = np.vstack(XC)\n",
    "XP = np.vstack(XP)\n",
    "XT = np.vstack(XT)\n",
    "Y = np.vstack(Y)\n",
    "print(\"XC shape: \", XC.shape, \"XP shape: \", XP.shape,\n",
    "      \"XT shape: \", XT.shape, \"Y shape:\", Y.shape)\n",
    "\n",
    "XC_train, XP_train, XT_train, Y_train = XC[\n",
    "    :-len_test], XP[:-len_test], XT[:-len_test], Y[:-len_test]\n",
    "XC_test, XP_test, XT_test, Y_test = XC[\n",
    "    -len_test:], XP[-len_test:], XT[-len_test:], Y[-len_test:]\n",
    "timestamp_train, timestamp_test = timestamps_Y[\n",
    "    :-len_test], timestamps_Y[-len_test:]\n",
    "\n",
    "X_train = []\n",
    "X_test = []\n",
    "for l, X_ in zip([len_closeness, len_period, len_trend], [XC_train, XP_train, XT_train]):\n",
    "    if l > 0:\n",
    "        X_train.append(X_)\n",
    "for l, X_ in zip([len_closeness, len_period, len_trend], [XC_test, XP_test, XT_test]):\n",
    "    if l > 0:\n",
    "        X_test.append(X_)\n",
    "print('train shape:', XC_train.shape, Y_train.shape,\n",
    "      'test shape: ', XC_test.shape, Y_test.shape)\n",
    "\n",
    "if metadata_dim is not None:\n",
    "    meta_feature_train, meta_feature_test = meta_feature[\n",
    "        :-len_test], meta_feature[-len_test:]\n",
    "    X_train.append(meta_feature_train)\n",
    "    X_test.append(meta_feature_test)\n",
    "for _X in X_train:\n",
    "    print(_X.shape, )\n",
    "print()\n",
    "for _X in X_test:\n",
    "    print(_X.shape, )\n",
    "print()\n"
   ]
  },
  {
   "cell_type": "code",
   "execution_count": null,
   "metadata": {},
   "outputs": [],
   "source": []
  }
 ],
 "metadata": {
  "kernelspec": {
   "display_name": "Python 3",
   "language": "python",
   "name": "python3"
  },
  "language_info": {
   "codemirror_mode": {
    "name": "ipython",
    "version": 3
   },
   "file_extension": ".py",
   "mimetype": "text/x-python",
   "name": "python",
   "nbconvert_exporter": "python",
   "pygments_lexer": "ipython3",
   "version": "3.10.12"
  },
  "orig_nbformat": 4
 },
 "nbformat": 4,
 "nbformat_minor": 2
}
